{
 "cells": [
  {
   "attachments": {},
   "cell_type": "markdown",
   "metadata": {},
   "source": [
    "# Dictionaries <br>\n",
    "Key/Value Pairs <br>\n",
    "Associative Array (hashmap) like javascript objects <br>\n",
    "Dicts are unordered <br>"
   ]
  },
  {
   "cell_type": "code",
   "execution_count": 3,
   "metadata": {},
   "outputs": [
    {
     "name": "stdout",
     "output_type": "stream",
     "text": [
      "{'pork': 25.3, 'beef': 33.8, 'chicken': 22.7}\n",
      "{'pork': 25.3, 'beef': 33.8, 'chicken': 22.7}\n",
      "{'pork': 25.3, 'beef': 33.8, 'chicken': 22.7}\n"
     ]
    }
   ],
   "source": [
    "x = {'pork': 25.3, 'beef': 33.8, 'chicken': 22.7}\n",
    "print(x)\n",
    "\n",
    "x = dict([('pork', 25.3),('beef', 33.8),('chicken', 22.7)])\n",
    "print(x)\n",
    "\n",
    "x = dict(pork=25.3, beef=33.8,chicken=22.7)\n",
    "print(x)\n"
   ]
  },
  {
   "attachments": {},
   "cell_type": "markdown",
   "metadata": {},
   "source": [
    "<b>Dict Operations</b>"
   ]
  },
  {
   "cell_type": "code",
   "execution_count": 5,
   "metadata": {},
   "outputs": [
    {
     "name": "stdout",
     "output_type": "stream",
     "text": [
      "{'pork': 25.3, 'beef': 33.8, 'chicken': 22.7, 'shrimp': 38.2}\n",
      "{'pork': 25.3, 'beef': 33.8, 'chicken': 22.7}\n",
      "3\n"
     ]
    }
   ],
   "source": [
    "x['shrimp'] = 38.2\n",
    "print(x)\n",
    "\n",
    "# del item\n",
    "del(x['shrimp'])\n",
    "print(x)\n",
    "\n",
    "# get len of dict x \n",
    "print(len(x))\n",
    "\n",
    "# del all items\n",
    "x.clear()\n",
    "\n",
    "# delete dict\n",
    "del(x)\n"
   ]
  },
  {
   "attachments": {},
   "cell_type": "markdown",
   "metadata": {},
   "source": [
    "<b>accessing keys and values in dict</b>"
   ]
  },
  {
   "cell_type": "code",
   "execution_count": 8,
   "metadata": {},
   "outputs": [
    {
     "name": "stdout",
     "output_type": "stream",
     "text": [
      "<built-in method keys of dict object at 0x11c928fc0>\n",
      "dict_values([25.3, 33.8, 22.7])\n",
      "dict_items([('pork', 25.3), ('beef', 33.8), ('chicken', 22.7)])\n",
      "True\n",
      "False\n"
     ]
    }
   ],
   "source": [
    "y = {'pork': 25.3, 'beef': 33.8, 'chicken': 22.7}\n",
    "print(y.keys)\n",
    "print(y.values())\n",
    "print(y.items())\n",
    "\n",
    "# check membership in y_keys \n",
    "print('beef' in y)\n",
    "\n",
    "print('clams' in y.values())"
   ]
  },
  {
   "attachments": {},
   "cell_type": "markdown",
   "metadata": {},
   "source": [
    "<b>iterating a dict</b>\n"
   ]
  },
  {
   "cell_type": "code",
   "execution_count": 9,
   "metadata": {},
   "outputs": [
    {
     "name": "stdout",
     "output_type": "stream",
     "text": [
      "pork 25.3\n",
      "beef 33.8\n",
      "chicken 22.7\n",
      "pork 25.3\n",
      "beef 33.8\n",
      "chicken 22.7\n"
     ]
    }
   ],
   "source": [
    "for key in y:\n",
    "    print(key, y[key])\n",
    "\n",
    "for k,v in y.items():\n",
    "    print(k,v)"
   ]
  }
 ],
 "metadata": {
  "kernelspec": {
   "display_name": "Python 3.8.13 64-bit ('3.8.13')",
   "language": "python",
   "name": "python3"
  },
  "language_info": {
   "codemirror_mode": {
    "name": "ipython",
    "version": 3
   },
   "file_extension": ".py",
   "mimetype": "text/x-python",
   "name": "python",
   "nbconvert_exporter": "python",
   "pygments_lexer": "ipython3",
   "version": "3.8.13"
  },
  "orig_nbformat": 4,
  "vscode": {
   "interpreter": {
    "hash": "4a9416fde9cb901ae10c49b7c365f273f6eb28dd9eb0169e2f8be061df5cebf6"
   }
  }
 },
 "nbformat": 4,
 "nbformat_minor": 2
}
