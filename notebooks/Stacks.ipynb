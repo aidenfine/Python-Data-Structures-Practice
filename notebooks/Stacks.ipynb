{
 "cells": [
  {
   "attachments": {},
   "cell_type": "markdown",
   "metadata": {},
   "source": [
    "# Stack"
   ]
  },
  {
   "cell_type": "code",
   "execution_count": 2,
   "metadata": {},
   "outputs": [
    {
     "name": "stdout",
     "output_type": "stream",
     "text": [
      "[4, 7, 12, 19]\n",
      "ignore\n"
     ]
    }
   ],
   "source": [
    "my_stack = list()\n",
    "my_stack.append(4)\n",
    "my_stack.append(7)\n",
    "my_stack.append(12)\n",
    "my_stack.append(19)\n",
    "print(my_stack)\n",
    "print('ignore')"
   ]
  },
  {
   "cell_type": "code",
   "execution_count": 3,
   "metadata": {},
   "outputs": [
    {
     "name": "stdout",
     "output_type": "stream",
     "text": [
      "19\n",
      "12\n",
      "[4, 7]\n"
     ]
    }
   ],
   "source": [
    "print(my_stack.pop())\n",
    "print(my_stack.pop())\n",
    "print(my_stack)"
   ]
  },
  {
   "attachments": {},
   "cell_type": "markdown",
   "metadata": {},
   "source": [
    "# Stack Wrapper class"
   ]
  },
  {
   "cell_type": "code",
   "execution_count": 4,
   "metadata": {},
   "outputs": [],
   "source": [
    "class Stack():\n",
    "    def __init__(self):\n",
    "        self.stack = list()\n",
    "    def push(self,item):\n",
    "        self.stack.append(item)\n",
    "    def pop(self):\n",
    "        if len(self.stack) > 0:\n",
    "            return self.stack.pop()\n",
    "        else:\n",
    "            return None\n",
    "    def peek(self):\n",
    "        if len(self.stack) > 0:\n",
    "            return self.stack[len(self.stack)-1]\n",
    "        else:\n",
    "            return None\n",
    "    def __str__(self):\n",
    "        return str(self.stack)"
   ]
  },
  {
   "attachments": {},
   "cell_type": "markdown",
   "metadata": {},
   "source": [
    "## Test Code For Stack Wrapper class"
   ]
  },
  {
   "cell_type": "code",
   "execution_count": 5,
   "metadata": {},
   "outputs": [
    {
     "name": "stdout",
     "output_type": "stream",
     "text": [
      "[1, 3]\n",
      "3\n",
      "1\n",
      "1\n",
      "None\n"
     ]
    }
   ],
   "source": [
    "my_stack = Stack()\n",
    "my_stack.push(1)\n",
    "my_stack.push(3)\n",
    "print(my_stack)\n",
    "print(my_stack.pop())\n",
    "print(my_stack.peek()) # peek will give the top item on a stack\n",
    "print(my_stack.pop())\n",
    "print(my_stack.pop())\n",
    "\n"
   ]
  }
 ],
 "metadata": {
  "kernelspec": {
   "display_name": "Python 3.8.13 64-bit ('3.8.13')",
   "language": "python",
   "name": "python3"
  },
  "language_info": {
   "codemirror_mode": {
    "name": "ipython",
    "version": 3
   },
   "file_extension": ".py",
   "mimetype": "text/x-python",
   "name": "python",
   "nbconvert_exporter": "python",
   "pygments_lexer": "ipython3",
   "version": "3.8.13"
  },
  "orig_nbformat": 4,
  "vscode": {
   "interpreter": {
    "hash": "4a9416fde9cb901ae10c49b7c365f273f6eb28dd9eb0169e2f8be061df5cebf6"
   }
  }
 },
 "nbformat": 4,
 "nbformat_minor": 2
}
