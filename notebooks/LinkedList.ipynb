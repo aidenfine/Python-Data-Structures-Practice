{
 "cells": [
  {
   "attachments": {},
   "cell_type": "markdown",
   "metadata": {},
   "source": [
    "# Linked List"
   ]
  },
  {
   "attachments": {},
   "cell_type": "markdown",
   "metadata": {},
   "source": [
    "- Every Node has two parts - data and a pointer to the next Node"
   ]
  },
  {
   "attachments": {},
   "cell_type": "markdown",
   "metadata": {},
   "source": [
    "<h2> Node Class</h2>\n",
    "\n",
    "Node class has constructor that sets the data passed in <br>\n",
    "\n",
    "note that prev_node is only used for doubly Linked lists"
   ]
  },
  {
   "cell_type": "code",
   "execution_count": 1,
   "metadata": {},
   "outputs": [],
   "source": [
    "class Node:\n",
    "\n",
    "    def __init__(self, d, n=None,p=None):\n",
    "        self.data = d\n",
    "        self.next_node = n\n",
    "        self.prev_node = p\n",
    "    def __str__(self):\n",
    "        return ('(' + str(self.data) + ')')\n",
    "\n",
    "    \n"
   ]
  },
  {
   "attachments": {},
   "cell_type": "markdown",
   "metadata": {},
   "source": [
    "<h2>LinkedList Class</h2>\n",
    "\n",
    "- Add method receives a piece of data, creates a new node setting the root.\n",
    "- Find iterates through the nodes until it finds the data passed in. If it finds the data it will return it otherwise returns None\n",
    "- Remove needs a pointer to this_node and prev_node. if it finds the data it needs to check if it is in the root node (prev_node is none) before deciding how to bypass the deleted node\n",
    "- print_list iterates the list and prints each node"
   ]
  },
  {
   "cell_type": "code",
   "execution_count": 2,
   "metadata": {},
   "outputs": [
    {
     "ename": "SyntaxError",
     "evalue": "unexpected EOF while parsing (631365107.py, line 45)",
     "output_type": "error",
     "traceback": [
      "\u001b[0;36m  Cell \u001b[0;32mIn[2], line 45\u001b[0;36m\u001b[0m\n\u001b[0;31m    \u001b[0m\n\u001b[0m    ^\u001b[0m\n\u001b[0;31mSyntaxError\u001b[0m\u001b[0;31m:\u001b[0m unexpected EOF while parsing\n"
     ]
    }
   ],
   "source": [
    "class LinkedList:\n",
    "\n",
    "    def __init__(self, r=None):\n",
    "        self.root = r\n",
    "        self.size = 0\n",
    "\n",
    "    def add(self, d):\n",
    "        # We insert this node at the very beginning of the linked list\n",
    "        new_node = Node(d, self.root)\n",
    "        # the original root node is now the second node\n",
    "\n",
    "        self.root = new_node # change root node to new node\n",
    "        self.size += 1\n",
    "    \n",
    "    def find(self, d):\n",
    "        this_node = self.root\n",
    "        while this_node is not None:\n",
    "            if this_node.data == d:\n",
    "                return d\n",
    "            else:\n",
    "                this_node = this_node.next_node\n",
    "        return None\n",
    "\n",
    "    def remove(self, d):\n",
    "        this_node = self.root\n",
    "        prev_node = None\n",
    "\n",
    "        while this_node is not None:\n",
    "            if this_node.data == d:\n",
    "                if prev_node is not None:\n",
    "                    prev_node.next_node = this_node.next_node\n",
    "                else: # data is not in root node\n",
    "                    self.root = this_node.next_node\n",
    "                self.size -=1\n",
    "                return True     # data is removed \n",
    "            else:\n",
    "                prev_node = this_node\n",
    "                this_node = this_node.next_node\n",
    "        return False    #data not found\n",
    "    \n",
    "    def print_list(self):\n",
    "        this_node = self.root\n",
    "        while this_node is not None:\n",
    "            print(this_node, end='->')\n",
    "            this_node = this_node.next_node\n",
    "        print('None')\n",
    "\n",
    "    "
   ]
  }
 ],
 "metadata": {
  "kernelspec": {
   "display_name": "Python 3.8.13 64-bit ('3.8.13')",
   "language": "python",
   "name": "python3"
  },
  "language_info": {
   "codemirror_mode": {
    "name": "ipython",
    "version": 3
   },
   "file_extension": ".py",
   "mimetype": "text/x-python",
   "name": "python",
   "nbconvert_exporter": "python",
   "pygments_lexer": "ipython3",
   "version": "3.8.13"
  },
  "orig_nbformat": 4,
  "vscode": {
   "interpreter": {
    "hash": "4a9416fde9cb901ae10c49b7c365f273f6eb28dd9eb0169e2f8be061df5cebf6"
   }
  }
 },
 "nbformat": 4,
 "nbformat_minor": 2
}
