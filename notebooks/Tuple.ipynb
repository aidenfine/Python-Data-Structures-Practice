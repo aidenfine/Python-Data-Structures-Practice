{
 "cells": [
  {
   "attachments": {},
   "cell_type": "markdown",
   "metadata": {},
   "source": [
    "# Tuples <br>\n",
    "<ul>\n",
    "<li>Cannot be changed</li>\n",
    "</ul>"
   ]
  },
  {
   "attachments": {},
   "cell_type": "markdown",
   "metadata": {},
   "source": [
    "<b>Constructors</b> Creating new tuples"
   ]
  },
  {
   "cell_type": "code",
   "execution_count": 4,
   "metadata": {},
   "outputs": [
    {
     "name": "stdout",
     "output_type": "stream",
     "text": [
      "(2,) <class 'tuple'>\n",
      "ignore\n",
      "(2, 4, 6) <class 'tuple'>\n"
     ]
    }
   ],
   "source": [
    "x = ()\n",
    "x = (1,2,3)\n",
    "x = 1,2,3\n",
    "x = 2, # comma tells python its a tuple\n",
    "print(x, type(x))\n",
    "print(\"ignore\")\n",
    "\n",
    "list1 = [2,4,6]\n",
    "x = tuple(list1)\n",
    "print(x, type(x))"
   ]
  },
  {
   "attachments": {},
   "cell_type": "markdown",
   "metadata": {},
   "source": [
    "<b>Tuples are immutable:</b> But member objects may be mutable"
   ]
  },
  {
   "cell_type": "code",
   "execution_count": 5,
   "metadata": {},
   "outputs": [
    {
     "name": "stdout",
     "output_type": "stream",
     "text": [
      "(1, 2, 3)\n",
      "([1], 3)\n",
      "([1], 3, 4)\n"
     ]
    }
   ],
   "source": [
    "x = (1,2,3)\n",
    "# del(x[1])     # fail\n",
    "#x[1] = 8       # fail\n",
    "print(x)\n",
    "\n",
    "y = ([1,2],3)\n",
    "del(y[0][1])\n",
    "print(y)\n",
    "\n",
    "y+=(4,)\n",
    "print(y)"
   ]
  }
 ],
 "metadata": {
  "kernelspec": {
   "display_name": "Python 3.8.13 64-bit ('3.8.13')",
   "language": "python",
   "name": "python3"
  },
  "language_info": {
   "codemirror_mode": {
    "name": "ipython",
    "version": 3
   },
   "file_extension": ".py",
   "mimetype": "text/x-python",
   "name": "python",
   "nbconvert_exporter": "python",
   "pygments_lexer": "ipython3",
   "version": "3.8.13"
  },
  "orig_nbformat": 4,
  "vscode": {
   "interpreter": {
    "hash": "4a9416fde9cb901ae10c49b7c365f273f6eb28dd9eb0169e2f8be061df5cebf6"
   }
  }
 },
 "nbformat": 4,
 "nbformat_minor": 2
}
