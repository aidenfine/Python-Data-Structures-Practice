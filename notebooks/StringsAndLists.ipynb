{
 "cells": [
  {
   "attachments": {},
   "cell_type": "markdown",
   "metadata": {},
   "source": [
    "Taken from https://www.youtube.com/watch?v=kQDxmjfkIKY&t=1321s&ab_channel=CodDevX"
   ]
  },
  {
   "attachments": {},
   "cell_type": "markdown",
   "metadata": {},
   "source": [
    "# String, List, Tuple"
   ]
  },
  {
   "attachments": {},
   "cell_type": "markdown",
   "metadata": {},
   "source": [
    "<b>Indexing:</b> Access any item item in the sequence using its index. "
   ]
  },
  {
   "cell_type": "code",
   "execution_count": 21,
   "metadata": {},
   "outputs": [
    {
     "name": "stdout",
     "output_type": "stream",
     "text": [
      "g\n",
      "cow\n",
      "john\n"
     ]
    }
   ],
   "source": [
    "# string \n",
    "x = 'frog'\n",
    "print(x[3])\n",
    "\n",
    "# list\n",
    "x = ['pig', 'cow', 'horse']\n",
    "print(x[1])\n",
    "\n",
    "# tuple\n",
    "x  = ('kevin', \"aiden\", 'john', 'mike')\n",
    "print(x[2])"
   ]
  },
  {
   "attachments": {},
   "cell_type": "markdown",
   "metadata": {},
   "source": [
    "<b>Slicing:</b> slice out substring, sublist, subtuples, using indexes. <br>\n",
    "[start: end+1: step]"
   ]
  },
  {
   "cell_type": "code",
   "execution_count": 23,
   "metadata": {},
   "outputs": [
    {
     "name": "stdout",
     "output_type": "stream",
     "text": [
      "omp\n",
      "opt\n",
      "puter\n",
      "compu\n",
      "r\n",
      "ter\n",
      "comput\n"
     ]
    }
   ],
   "source": [
    "x = 'computer'\n",
    "print(x[1:4])\n",
    "print(x[1:6:2]) # 2 is the step so it takes every other item if step was 4 it would take every 4th item etc \n",
    "print(x[3:]) # gets everything from 3rd index on\n",
    "print(x[:5])\n",
    "print(x[-1])\n",
    "print(x[-3:])\n",
    "print(x[:-2])"
   ]
  },
  {
   "attachments": {},
   "cell_type": "markdown",
   "metadata": {},
   "source": [
    "<b>adding/concatenating:</b> combine 2 sequences of the same type by using +"
   ]
  },
  {
   "cell_type": "code",
   "execution_count": null,
   "metadata": {},
   "outputs": [],
   "source": [
    "# string \n",
    "x = 'horse' + 'shoe'\n",
    "print(x)\n",
    "\n",
    "# list \n",
    "y = ['pig', 'cow'] + ['horse']\n",
    "print(y)\n",
    "\n",
    "#tuple\n",
    "z = ('kevin', 'nick') + ('john',)\n",
    "print(z)"
   ]
  },
  {
   "attachments": {},
   "cell_type": "markdown",
   "metadata": {},
   "source": [
    "<b>Multiplying:</b> Multiply a sequence using *"
   ]
  },
  {
   "cell_type": "code",
   "execution_count": null,
   "metadata": {},
   "outputs": [],
   "source": [
    "# string \n",
    "x = 'bug' * 3\n",
    "print(x)\n",
    "\n",
    "# list\n",
    "y = [8,5] * 3\n",
    "print(y)\n",
    "\n",
    "# tuple\n",
    "z = (2,4) * 3\n",
    "print(z)"
   ]
  },
  {
   "attachments": {},
   "cell_type": "markdown",
   "metadata": {},
   "source": [
    "<b>Checking Membership:</b> Test whether an item is or is not in a sequence"
   ]
  },
  {
   "cell_type": "code",
   "execution_count": null,
   "metadata": {},
   "outputs": [],
   "source": [
    "# string \n",
    "x = 'bug'\n",
    "print('u' in x)\n",
    "\n",
    "# list\n",
    "y = ['pig', 'cow', 'horse']\n",
    "print('cow' not in y )\n",
    "\n",
    "# tuple\n",
    "z = ('Kevin', 'John', 'Mike')\n",
    "print('Mike' in z )\n",
    "\n",
    "# int\n",
    "z =[2,5,31,4,42,5]\n",
    "print(2 and 4 in z)"
   ]
  },
  {
   "attachments": {},
   "cell_type": "markdown",
   "metadata": {},
   "source": [
    "<b>For Loop:</b> "
   ]
  },
  {
   "cell_type": "code",
   "execution_count": 22,
   "metadata": {},
   "outputs": [
    {
     "name": "stdout",
     "output_type": "stream",
     "text": [
      "7\n",
      "8\n",
      "3\n",
      "0 7\n",
      "1 8\n",
      "2 3\n"
     ]
    }
   ],
   "source": [
    "x  = [7,8,3]\n",
    "for item in x:\n",
    "    print(item)\n",
    "\n",
    "y = [7,8,3]\n",
    "for index, item in enumerate(y):\n",
    "    print(index, item)"
   ]
  },
  {
   "attachments": {},
   "cell_type": "markdown",
   "metadata": {},
   "source": [
    "<b>Minimum Value</b> find the min value item in a sequence lexicographically Alpha or numeric types but cannot mix types"
   ]
  },
  {
   "cell_type": "code",
   "execution_count": null,
   "metadata": {},
   "outputs": [],
   "source": [
    "# string \n",
    "x  = 'bug'\n",
    "print(min(x))\n",
    "\n",
    "# list \n",
    "y = ['pig', 'cow', 'horse']\n",
    "print(min(y))\n",
    "\n",
    "# tuple \n",
    "z = ('kevin', 'nick', 'john', 'aiden')\n",
    "print(min(z))"
   ]
  },
  {
   "attachments": {},
   "cell_type": "markdown",
   "metadata": {},
   "source": [
    "<b>Maximum:</b> find the max value item in a sequence lexicographically Alpha or numeric types but cannot mix types"
   ]
  },
  {
   "cell_type": "code",
   "execution_count": null,
   "metadata": {},
   "outputs": [],
   "source": [
    "# string \n",
    "x  = 'bug'\n",
    "print(max(x))\n",
    "\n",
    "# list \n",
    "y = ['pig', 'cow', 'horse']\n",
    "print(max(y))\n",
    "\n",
    "# tuple \n",
    "z = ('kevin', 'nick', 'john', 'aiden')\n",
    "print(max(z))"
   ]
  },
  {
   "attachments": {},
   "cell_type": "markdown",
   "metadata": {},
   "source": [
    "<b>Sum:</b> find the sum of items in a sequence entire sequence must be numeric"
   ]
  },
  {
   "cell_type": "code",
   "execution_count": 19,
   "metadata": {},
   "outputs": [
    {
     "name": "stdout",
     "output_type": "stream",
     "text": [
      "27\n",
      "25\n",
      "80\n"
     ]
    }
   ],
   "source": [
    "#list \n",
    "y = [2,5,8,12]\n",
    "print(sum(y))\n",
    "print(sum(y[-3:])) # the answer is 20 because the [-2] only gets the last 2 digits \n",
    "\n",
    "# tuple\n",
    "z = (50,4,7,19)\n",
    "print(sum(z))"
   ]
  },
  {
   "attachments": {},
   "cell_type": "markdown",
   "metadata": {},
   "source": [
    "<b>Sorting:</b> returns a new list of items in a sorted order <br>\n",
    "Does not change original list "
   ]
  },
  {
   "cell_type": "code",
   "execution_count": null,
   "metadata": {},
   "outputs": [],
   "source": [
    "# string \n",
    "x  = 'bug'\n",
    "print(sorted(x))\n",
    "\n",
    "# list \n",
    "y = ['pig', 'cow', 'horse']\n",
    "print(sorted(y))\n",
    "\n",
    "# tuple \n",
    "z = ('kevin', 'nick', 'john', 'aiden')\n",
    "print(sorted(z))"
   ]
  },
  {
   "attachments": {},
   "cell_type": "markdown",
   "metadata": {},
   "source": [
    "<b>Sorting:</b> sort by 2nd letter <br>\n",
    "variable does NOT have to be k <br>\n",
    "change k[1] to k[x] x being whatever index you want to sort by"
   ]
  },
  {
   "cell_type": "code",
   "execution_count": null,
   "metadata": {},
   "outputs": [],
   "source": [
    "z = ('kevin', 'nick', 'john', 'aiden')\n",
    "print(sorted(z, key=lambda k: k[1]))"
   ]
  },
  {
   "attachments": {},
   "cell_type": "markdown",
   "metadata": {},
   "source": [
    "<b>Count(item):</b> returns count of an item"
   ]
  },
  {
   "cell_type": "code",
   "execution_count": null,
   "metadata": {},
   "outputs": [],
   "source": [
    "# string \n",
    "x  = 'hippo'\n",
    "print(x.count('p'))\n",
    "\n",
    "# list \n",
    "y = ['pig', 'cow', 'horse', 'cow']\n",
    "print(y.count('cow'))\n",
    "\n",
    "# tuple \n",
    "z = ('kevin', 'nick', 'john', 'aiden')\n",
    "print(z.count('kevin'))"
   ]
  },
  {
   "attachments": {},
   "cell_type": "markdown",
   "metadata": {},
   "source": [
    "<b>index(item):</b> returns the index of the fire occurrence of an item"
   ]
  },
  {
   "cell_type": "code",
   "execution_count": 2,
   "metadata": {},
   "outputs": [
    {
     "name": "stdout",
     "output_type": "stream",
     "text": [
      "2\n",
      "1\n",
      "2\n"
     ]
    }
   ],
   "source": [
    "# string \n",
    "x  = 'hippo'\n",
    "print(x.index('p'))\n",
    "\n",
    "# list \n",
    "y = ['pig', 'cow', 'horse', 'cow']\n",
    "print(y.index('cow'))\n",
    "\n",
    "# tuple \n",
    "z = ('kevin', 'nick', 'john', 'aiden')\n",
    "print(z.index('john'))"
   ]
  },
  {
   "attachments": {},
   "cell_type": "markdown",
   "metadata": {},
   "source": [
    "<b>Unpacking:</b> unpack the n items of a sequence into n variables "
   ]
  },
  {
   "cell_type": "code",
   "execution_count": null,
   "metadata": {},
   "outputs": [],
   "source": [
    "x = ['pig', 'cow', 'horse']\n",
    "a,b,c = x\n",
    "print(a,b,c)"
   ]
  },
  {
   "attachments": {},
   "cell_type": "markdown",
   "metadata": {},
   "source": [
    "# List's\n"
   ]
  },
  {
   "attachments": {},
   "cell_type": "markdown",
   "metadata": {},
   "source": [
    "<b>Constructors:</b> creating a new list"
   ]
  },
  {
   "cell_type": "code",
   "execution_count": 30,
   "metadata": {},
   "outputs": [
    {
     "name": "stdout",
     "output_type": "stream",
     "text": [
      "[0, 1, 2, 3, 4, 5, 6, 7]\n",
      "[25, 36, 49, 64, 81]\n"
     ]
    }
   ],
   "source": [
    "x = list()\n",
    "y = ['a', 25, 'dog', 8.34]\n",
    "tuple1 = (10,20)\n",
    "z = list(tuple1)\n",
    "\n",
    "a = [m for m in range(8)]\n",
    "print(a)\n",
    "b = [i**2 for i in range(10) if  i>4]\n",
    "print(b)"
   ]
  },
  {
   "attachments": {},
   "cell_type": "markdown",
   "metadata": {},
   "source": [
    "<b>append:</b> append item to a list"
   ]
  },
  {
   "cell_type": "code",
   "execution_count": 6,
   "metadata": {},
   "outputs": [
    {
     "name": "stdout",
     "output_type": "stream",
     "text": [
      "[5, 3, 8, 6, 7]\n",
      "IGNORE THIS\n"
     ]
    }
   ],
   "source": [
    "w = [5,3,8,6]\n",
    "w.append(7)\n",
    "print(w)\n",
    "print(\"IGNORE THIS\")"
   ]
  },
  {
   "attachments": {},
   "cell_type": "markdown",
   "metadata": {},
   "source": [
    "<b>Extend:</b> append a sequence to a list"
   ]
  },
  {
   "cell_type": "code",
   "execution_count": 19,
   "metadata": {},
   "outputs": [
    {
     "name": "stdout",
     "output_type": "stream",
     "text": [
      "[5, 3, 8, 6, 12, 13]\n",
      "IGNORE THIS\n"
     ]
    }
   ],
   "source": [
    "l1 = [5,3,8,6]\n",
    "l2 = [12,13]\n",
    "l1.extend(l2)\n",
    "print(l1)\n",
    "print(\"IGNORE THIS\")"
   ]
  },
  {
   "attachments": {},
   "cell_type": "markdown",
   "metadata": {},
   "source": [
    "<b>Inset</b> Insert an Item at a given Index"
   ]
  },
  {
   "cell_type": "code",
   "execution_count": 4,
   "metadata": {},
   "outputs": [
    {
     "name": "stdout",
     "output_type": "stream",
     "text": [
      "[5, 7, 3, 8, 6]\n",
      "IGNORE THIS\n"
     ]
    }
   ],
   "source": [
    "x = [5,3,8,6]\n",
    "x.insert(1,7)\n",
    "print(x)\n",
    "print(\"IGNORE THIS\")"
   ]
  },
  {
   "cell_type": "code",
   "execution_count": 21,
   "metadata": {},
   "outputs": [
    {
     "name": "stdout",
     "output_type": "stream",
     "text": [
      "[3, 553, 21]\n",
      "IGNORE THIS\n"
     ]
    }
   ],
   "source": [
    "x = [3,321,553,21]\n",
    "x.remove(321)\n",
    "print(x)\n",
    "print(\"IGNORE THIS\")"
   ]
  },
  {
   "attachments": {},
   "cell_type": "markdown",
   "metadata": {},
   "source": [
    "<b>Reverse:</b> reverse the order of the list "
   ]
  },
  {
   "cell_type": "code",
   "execution_count": 22,
   "metadata": {},
   "outputs": [
    {
     "name": "stdout",
     "output_type": "stream",
     "text": [
      "[3, 553, 21]\n",
      "IGNORE THIS\n"
     ]
    }
   ],
   "source": [
    "# list\n",
    "l1 = [3,321,553,21]\n",
    "l1.reverse()\n",
    "print(x)\n",
    "print(\"IGNORE THIS\")"
   ]
  },
  {
   "attachments": {},
   "cell_type": "markdown",
   "metadata": {},
   "source": [
    "<b>Sort:</b> sorts the list in place <br>\n",
    "This does not change original list"
   ]
  },
  {
   "cell_type": "code",
   "execution_count": 1,
   "metadata": {},
   "outputs": [
    {
     "name": "stdout",
     "output_type": "stream",
     "text": [
      "[3, 5, 6, 8]\n",
      "IGNORE THIS\n"
     ]
    }
   ],
   "source": [
    "x = [5,3,8,6]\n",
    "x.sort()\n",
    "print(x)\n",
    "print(\"IGNORE THIS\")"
   ]
  },
  {
   "attachments": {},
   "cell_type": "markdown",
   "metadata": {},
   "source": [
    "<b>Reverse Sort</b>"
   ]
  },
  {
   "cell_type": "code",
   "execution_count": 2,
   "metadata": {},
   "outputs": [
    {
     "name": "stdout",
     "output_type": "stream",
     "text": [
      "[8, 6, 5, 3]\n",
      "IGNORE THIS\n"
     ]
    }
   ],
   "source": [
    "x = [5,3,8,6]\n",
    "x.sort(reverse=True)\n",
    "print(x)\n",
    "print(\"IGNORE THIS\")"
   ]
  }
 ],
 "metadata": {
  "kernelspec": {
   "display_name": "Python 3",
   "language": "python",
   "name": "python3"
  },
  "language_info": {
   "codemirror_mode": {
    "name": "ipython",
    "version": 3
   },
   "file_extension": ".py",
   "mimetype": "text/x-python",
   "name": "python",
   "nbconvert_exporter": "python",
   "pygments_lexer": "ipython3",
   "version": "3.8.13"
  },
  "orig_nbformat": 4,
  "vscode": {
   "interpreter": {
    "hash": "4a9416fde9cb901ae10c49b7c365f273f6eb28dd9eb0169e2f8be061df5cebf6"
   }
  }
 },
 "nbformat": 4,
 "nbformat_minor": 2
}
